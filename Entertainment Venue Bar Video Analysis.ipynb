{
 "cells": [
  {
   "cell_type": "code",
   "execution_count": 1,
   "metadata": {},
   "outputs": [],
   "source": [
    "import pandas as pd\n",
    "import numpy as np\n",
    "import seaborn as sns\n",
    "import matplotlib.pyplot as plt\n",
    "import warnings\n",
    "%matplotlib inline\n",
    "warnings.filterwarnings('ignore')"
   ]
  },
  {
   "cell_type": "code",
   "execution_count": 2,
   "metadata": {},
   "outputs": [],
   "source": [
    "from sklearn.model_selection import train_test_split, cross_val_score, GridSearchCV\n",
    "from sklearn.metrics import mean_squared_error, confusion_matrix\n",
    "from sklearn import linear_model\n",
    "from sklearn.svm import SVC\n",
    "import scipy.stats as stats"
   ]
  },
  {
   "cell_type": "code",
   "execution_count": 3,
   "metadata": {},
   "outputs": [],
   "source": [
    "data = pd.read_excel('video_data.xlsx', nrows=249)\n",
    "video_data = data.loc[data['duration'] <= 200]"
   ]
  },
  {
   "cell_type": "code",
   "execution_count": 4,
   "metadata": {},
   "outputs": [
    {
     "data": {
      "text/html": [
       "<div>\n",
       "<style scoped>\n",
       "    .dataframe tbody tr th:only-of-type {\n",
       "        vertical-align: middle;\n",
       "    }\n",
       "\n",
       "    .dataframe tbody tr th {\n",
       "        vertical-align: top;\n",
       "    }\n",
       "\n",
       "    .dataframe thead th {\n",
       "        text-align: right;\n",
       "    }\n",
       "</style>\n",
       "<table border=\"1\" class=\"dataframe\">\n",
       "  <thead>\n",
       "    <tr style=\"text-align: right;\">\n",
       "      <th></th>\n",
       "      <th>time</th>\n",
       "      <th>location</th>\n",
       "      <th>station</th>\n",
       "      <th>position</th>\n",
       "      <th>incident</th>\n",
       "      <th>duration</th>\n",
       "      <th>event</th>\n",
       "      <th>comment</th>\n",
       "      <th>race</th>\n",
       "    </tr>\n",
       "  </thead>\n",
       "  <tbody>\n",
       "    <tr>\n",
       "      <th>0</th>\n",
       "      <td>3/2/19 1:30:04</td>\n",
       "      <td>DB</td>\n",
       "      <td>1</td>\n",
       "      <td>Cashier</td>\n",
       "      <td>NaN</td>\n",
       "      <td>28</td>\n",
       "      <td>soft drink</td>\n",
       "      <td>NaN</td>\n",
       "      <td>NaN</td>\n",
       "    </tr>\n",
       "    <tr>\n",
       "      <th>1</th>\n",
       "      <td>3/2/19 1:30:32</td>\n",
       "      <td>DB</td>\n",
       "      <td>1</td>\n",
       "      <td>Cashier</td>\n",
       "      <td>NaN</td>\n",
       "      <td>100</td>\n",
       "      <td>beer/id scan/mixed drink</td>\n",
       "      <td>NaN</td>\n",
       "      <td>NaN</td>\n",
       "    </tr>\n",
       "    <tr>\n",
       "      <th>2</th>\n",
       "      <td>3/2/19 1:32:12</td>\n",
       "      <td>DB</td>\n",
       "      <td>1</td>\n",
       "      <td>Cashier</td>\n",
       "      <td>NaN</td>\n",
       "      <td>69</td>\n",
       "      <td>mixed drink</td>\n",
       "      <td>NaN</td>\n",
       "      <td>NaN</td>\n",
       "    </tr>\n",
       "    <tr>\n",
       "      <th>3</th>\n",
       "      <td>3/2/19 1:33:21</td>\n",
       "      <td>DB</td>\n",
       "      <td>1</td>\n",
       "      <td>Cashier</td>\n",
       "      <td>NaN</td>\n",
       "      <td>24</td>\n",
       "      <td>draft</td>\n",
       "      <td>NaN</td>\n",
       "      <td>NaN</td>\n",
       "    </tr>\n",
       "    <tr>\n",
       "      <th>4</th>\n",
       "      <td>3/2/19 1:33:45</td>\n",
       "      <td>DB</td>\n",
       "      <td>1</td>\n",
       "      <td>Cashier</td>\n",
       "      <td>NaN</td>\n",
       "      <td>88</td>\n",
       "      <td>can beer/mixed drink</td>\n",
       "      <td>NaN</td>\n",
       "      <td>NaN</td>\n",
       "    </tr>\n",
       "  </tbody>\n",
       "</table>\n",
       "</div>"
      ],
      "text/plain": [
       "             time location  station position incident  duration  \\\n",
       "0  3/2/19 1:30:04       DB        1  Cashier      NaN        28   \n",
       "1  3/2/19 1:30:32       DB        1  Cashier      NaN       100   \n",
       "2  3/2/19 1:32:12       DB        1  Cashier      NaN        69   \n",
       "3  3/2/19 1:33:21       DB        1  Cashier      NaN        24   \n",
       "4  3/2/19 1:33:45       DB        1  Cashier      NaN        88   \n",
       "\n",
       "                      event comment  race  \n",
       "0                soft drink     NaN   NaN  \n",
       "1  beer/id scan/mixed drink     NaN   NaN  \n",
       "2               mixed drink     NaN   NaN  \n",
       "3                     draft     NaN   NaN  \n",
       "4      can beer/mixed drink     NaN   NaN  "
      ]
     },
     "execution_count": 4,
     "metadata": {},
     "output_type": "execute_result"
    }
   ],
   "source": [
    "video_data.head()"
   ]
  },
  {
   "cell_type": "code",
   "execution_count": 5,
   "metadata": {},
   "outputs": [],
   "source": [
    "video_data['event'] = video_data['event'].str.replace('can beer', 'beer').str.replace('bottle', 'beer')"
   ]
  },
  {
   "cell_type": "code",
   "execution_count": 6,
   "metadata": {
    "scrolled": true
   },
   "outputs": [],
   "source": [
    "video_data['event'] = video_data['event'].str.replace('beer \\(\\d\\)', 'beer').str.replace('mixed drink \\(\\d\\)', 'mixed drink')"
   ]
  },
  {
   "cell_type": "code",
   "execution_count": 7,
   "metadata": {
    "scrolled": true
   },
   "outputs": [
    {
     "data": {
      "text/plain": [
       "mixed drink            67\n",
       "draft                  52\n",
       "beer                   21\n",
       "id scan/mixed drink    14\n",
       "mixed drink/beer        9\n",
       "Name: event, dtype: int64"
      ]
     },
     "execution_count": 7,
     "metadata": {},
     "output_type": "execute_result"
    }
   ],
   "source": [
    "video_data['event'].value_counts().head()"
   ]
  },
  {
   "cell_type": "code",
   "execution_count": 8,
   "metadata": {},
   "outputs": [
    {
     "data": {
      "image/png": "[encoded data removed]",
      "text/plain": [
       "<Figure size 432x288 with 1 Axes>"
      ]
     },
     "metadata": {
      "needs_background": "light"
     },
     "output_type": "display_data"
    }
   ],
   "source": [
    "values = video_data.event.value_counts()[:10]\n",
    "sns.barplot(x=values.values, y=values.index);"
   ]
  },
  {
   "cell_type": "code",
   "execution_count": 39,
   "metadata": {},
   "outputs": [
    {
     "data": {
      "image/png": "[encoded data removed]",
      "text/plain": [
       "<Figure size 432x288 with 1 Axes>"
      ]
     },
     "metadata": {
      "needs_background": "light"
     },
     "output_type": "display_data"
    }
   ],
   "source": [
    "sns.distplot(video_data['duration']);\n",
    "plt.axvline(60, c='r');\n",
    "plt.title('Distribution of Duration');"
   ]
  },
  {
   "cell_type": "code",
   "execution_count": 10,
   "metadata": {},
   "outputs": [
    {
     "data": {
      "image/png": "[encoded data removed]",
      "text/plain": [
       "<Figure size 432x288 with 1 Axes>"
      ]
     },
     "metadata": {
      "needs_background": "light"
     },
     "output_type": "display_data"
    }
   ],
   "source": [
    "sns.boxenplot(y=video_data['duration'], x=video_data['station']);"
   ]
  },
  {
   "cell_type": "code",
   "execution_count": 11,
   "metadata": {},
   "outputs": [
    {
     "data": {
      "text/html": [
       "<div>\n",
       "<style scoped>\n",
       "    .dataframe tbody tr th:only-of-type {\n",
       "        vertical-align: middle;\n",
       "    }\n",
       "\n",
       "    .dataframe tbody tr th {\n",
       "        vertical-align: top;\n",
       "    }\n",
       "\n",
       "    .dataframe thead th {\n",
       "        text-align: right;\n",
       "    }\n",
       "</style>\n",
       "<table border=\"1\" class=\"dataframe\">\n",
       "  <thead>\n",
       "    <tr style=\"text-align: right;\">\n",
       "      <th></th>\n",
       "      <th>time</th>\n",
       "      <th>location</th>\n",
       "      <th>station</th>\n",
       "      <th>position</th>\n",
       "      <th>incident</th>\n",
       "      <th>duration</th>\n",
       "      <th>event</th>\n",
       "      <th>comment</th>\n",
       "      <th>race</th>\n",
       "      <th>beer</th>\n",
       "      <th>...</th>\n",
       "      <th>logged something</th>\n",
       "      <th>mixed drink</th>\n",
       "      <th>no customer</th>\n",
       "      <th>place to keep clothes</th>\n",
       "      <th>question asked</th>\n",
       "      <th>soft drink</th>\n",
       "      <th>talked to the customer and then he walked off</th>\n",
       "      <th>talks to other bartender</th>\n",
       "      <th>tsl</th>\n",
       "      <th>water</th>\n",
       "    </tr>\n",
       "  </thead>\n",
       "  <tbody>\n",
       "    <tr>\n",
       "      <th>0</th>\n",
       "      <td>3/2/19 1:30:04</td>\n",
       "      <td>DB</td>\n",
       "      <td>1</td>\n",
       "      <td>Cashier</td>\n",
       "      <td>NaN</td>\n",
       "      <td>28</td>\n",
       "      <td>soft drink</td>\n",
       "      <td>NaN</td>\n",
       "      <td>NaN</td>\n",
       "      <td>0</td>\n",
       "      <td>...</td>\n",
       "      <td>0</td>\n",
       "      <td>0</td>\n",
       "      <td>0</td>\n",
       "      <td>0</td>\n",
       "      <td>0</td>\n",
       "      <td>1</td>\n",
       "      <td>0</td>\n",
       "      <td>0</td>\n",
       "      <td>0</td>\n",
       "      <td>0</td>\n",
       "    </tr>\n",
       "    <tr>\n",
       "      <th>1</th>\n",
       "      <td>3/2/19 1:30:32</td>\n",
       "      <td>DB</td>\n",
       "      <td>1</td>\n",
       "      <td>Cashier</td>\n",
       "      <td>NaN</td>\n",
       "      <td>100</td>\n",
       "      <td>beer/id scan/mixed drink</td>\n",
       "      <td>NaN</td>\n",
       "      <td>NaN</td>\n",
       "      <td>1</td>\n",
       "      <td>...</td>\n",
       "      <td>0</td>\n",
       "      <td>1</td>\n",
       "      <td>0</td>\n",
       "      <td>0</td>\n",
       "      <td>0</td>\n",
       "      <td>0</td>\n",
       "      <td>0</td>\n",
       "      <td>0</td>\n",
       "      <td>0</td>\n",
       "      <td>0</td>\n",
       "    </tr>\n",
       "    <tr>\n",
       "      <th>2</th>\n",
       "      <td>3/2/19 1:32:12</td>\n",
       "      <td>DB</td>\n",
       "      <td>1</td>\n",
       "      <td>Cashier</td>\n",
       "      <td>NaN</td>\n",
       "      <td>69</td>\n",
       "      <td>mixed drink</td>\n",
       "      <td>NaN</td>\n",
       "      <td>NaN</td>\n",
       "      <td>0</td>\n",
       "      <td>...</td>\n",
       "      <td>0</td>\n",
       "      <td>1</td>\n",
       "      <td>0</td>\n",
       "      <td>0</td>\n",
       "      <td>0</td>\n",
       "      <td>0</td>\n",
       "      <td>0</td>\n",
       "      <td>0</td>\n",
       "      <td>0</td>\n",
       "      <td>0</td>\n",
       "    </tr>\n",
       "    <tr>\n",
       "      <th>3</th>\n",
       "      <td>3/2/19 1:33:21</td>\n",
       "      <td>DB</td>\n",
       "      <td>1</td>\n",
       "      <td>Cashier</td>\n",
       "      <td>NaN</td>\n",
       "      <td>24</td>\n",
       "      <td>draft</td>\n",
       "      <td>NaN</td>\n",
       "      <td>NaN</td>\n",
       "      <td>0</td>\n",
       "      <td>...</td>\n",
       "      <td>0</td>\n",
       "      <td>0</td>\n",
       "      <td>0</td>\n",
       "      <td>0</td>\n",
       "      <td>0</td>\n",
       "      <td>0</td>\n",
       "      <td>0</td>\n",
       "      <td>0</td>\n",
       "      <td>0</td>\n",
       "      <td>0</td>\n",
       "    </tr>\n",
       "    <tr>\n",
       "      <th>4</th>\n",
       "      <td>3/2/19 1:33:45</td>\n",
       "      <td>DB</td>\n",
       "      <td>1</td>\n",
       "      <td>Cashier</td>\n",
       "      <td>NaN</td>\n",
       "      <td>88</td>\n",
       "      <td>beer/mixed drink</td>\n",
       "      <td>NaN</td>\n",
       "      <td>NaN</td>\n",
       "      <td>1</td>\n",
       "      <td>...</td>\n",
       "      <td>0</td>\n",
       "      <td>1</td>\n",
       "      <td>0</td>\n",
       "      <td>0</td>\n",
       "      <td>0</td>\n",
       "      <td>0</td>\n",
       "      <td>0</td>\n",
       "      <td>0</td>\n",
       "      <td>0</td>\n",
       "      <td>0</td>\n",
       "    </tr>\n",
       "  </tbody>\n",
       "</table>\n",
       "<p>5 rows × 26 columns</p>\n",
       "</div>"
      ],
      "text/plain": [
       "             time location  station position incident  duration  \\\n",
       "0  3/2/19 1:30:04       DB        1  Cashier      NaN        28   \n",
       "1  3/2/19 1:30:32       DB        1  Cashier      NaN       100   \n",
       "2  3/2/19 1:32:12       DB        1  Cashier      NaN        69   \n",
       "3  3/2/19 1:33:21       DB        1  Cashier      NaN        24   \n",
       "4  3/2/19 1:33:45       DB        1  Cashier      NaN        88   \n",
       "\n",
       "                      event comment  race  beer  ...    logged something  \\\n",
       "0                soft drink     NaN   NaN     0  ...                   0   \n",
       "1  beer/id scan/mixed drink     NaN   NaN     1  ...                   0   \n",
       "2               mixed drink     NaN   NaN     0  ...                   0   \n",
       "3                     draft     NaN   NaN     0  ...                   0   \n",
       "4          beer/mixed drink     NaN   NaN     1  ...                   0   \n",
       "\n",
       "   mixed drink  no customer  place to keep clothes  question asked  \\\n",
       "0            0            0                      0               0   \n",
       "1            1            0                      0               0   \n",
       "2            1            0                      0               0   \n",
       "3            0            0                      0               0   \n",
       "4            1            0                      0               0   \n",
       "\n",
       "   soft drink  talked to the customer and then he walked off  \\\n",
       "0           1                                              0   \n",
       "1           0                                              0   \n",
       "2           0                                              0   \n",
       "3           0                                              0   \n",
       "4           0                                              0   \n",
       "\n",
       "   talks to other bartender  tsl  water  \n",
       "0                         0    0      0  \n",
       "1                         0    0      0  \n",
       "2                         0    0      0  \n",
       "3                         0    0      0  \n",
       "4                         0    0      0  \n",
       "\n",
       "[5 rows x 26 columns]"
      ]
     },
     "execution_count": 11,
     "metadata": {},
     "output_type": "execute_result"
    }
   ],
   "source": [
    "video_data = video_data.join(video_data['event'].str.get_dummies(sep='/'))\n",
    "video_data.head()"
   ]
  },
  {
   "cell_type": "code",
   "execution_count": 12,
   "metadata": {
    "scrolled": true
   },
   "outputs": [
    {
     "data": {
      "text/plain": [
       "beer                                              50\n",
       "cigar                                              4\n",
       "contamination to the food area                     1\n",
       "customer approached and left                       1\n",
       "desorganized line                                  1\n",
       "draft                                             71\n",
       "id scan                                           33\n",
       "logged something                                   1\n",
       "mixed drink                                      134\n",
       "no customer                                        1\n",
       "place to keep clothes                              1\n",
       "question asked                                     3\n",
       "soft drink                                         5\n",
       "talked to the customer and then he walked off      1\n",
       "talks to other bartender                           1\n",
       "tsl                                                8\n",
       "water                                              3\n",
       "dtype: int64"
      ]
     },
     "execution_count": 12,
     "metadata": {},
     "output_type": "execute_result"
    }
   ],
   "source": [
    "dummies = video_data.columns.tolist()[9:]\n",
    "video_data[dummies].sum()"
   ]
  },
  {
   "cell_type": "code",
   "execution_count": 13,
   "metadata": {},
   "outputs": [],
   "source": [
    "video_data = video_data.join(pd.get_dummies(video_data['station']))"
   ]
  },
  {
   "cell_type": "code",
   "execution_count": 14,
   "metadata": {},
   "outputs": [],
   "source": [
    "X = video_data[['beer', 'draft', 'mixed drink', 1, 2, 4]]\n",
    "y = video_data['duration']"
   ]
  },
  {
   "cell_type": "code",
   "execution_count": 15,
   "metadata": {},
   "outputs": [],
   "source": [
    "X_train, X_test, y_train, y_test = train_test_split(X, y, test_size=0.4, random_state=101)"
   ]
  },
  {
   "cell_type": "markdown",
   "metadata": {},
   "source": [
    "# Exploring different models"
   ]
  },
  {
   "cell_type": "code",
   "execution_count": 16,
   "metadata": {},
   "outputs": [],
   "source": [
    "columns = ['beer', 'draft', 'mixed drink', 1, 2, 4]\n",
    "index = ['Linear', 'Ridge', 'Lasso', 'Elastic Net']"
   ]
  },
  {
   "cell_type": "markdown",
   "metadata": {},
   "source": [
    "### Linear"
   ]
  },
  {
   "cell_type": "code",
   "execution_count": 17,
   "metadata": {},
   "outputs": [
    {
     "name": "stdout",
     "output_type": "stream",
     "text": [
      "[14.05238447 19.4396378  48.53388294 29.18945686 30.10283474 24.09579084]\n"
     ]
    }
   ],
   "source": [
    "linear = linear_model.LinearRegression(fit_intercept=False)\n",
    "linear.fit(X_train, y_train)\n",
    "print(linear.coef_)"
   ]
  },
  {
   "cell_type": "code",
   "execution_count": 18,
   "metadata": {},
   "outputs": [
    {
     "name": "stdout",
     "output_type": "stream",
     "text": [
      "[ 5.94224067 20.3061038  39.90497641 32.03689293 33.51330357 55.20476855]\n"
     ]
    }
   ],
   "source": [
    "linear.fit(X_test, y_test)\n",
    "print(linear.coef_)"
   ]
  },
  {
   "cell_type": "code",
   "execution_count": 19,
   "metadata": {},
   "outputs": [],
   "source": [
    "y_pred = linear.predict(X_test)\n",
    "linear_rmse = mean_squared_error(y_test, y_pred)**.5\n",
    "linear_score = linear.score(X_test, y_test)"
   ]
  },
  {
   "cell_type": "markdown",
   "metadata": {},
   "source": [
    "### Ridge"
   ]
  },
  {
   "cell_type": "code",
   "execution_count": 20,
   "metadata": {},
   "outputs": [
    {
     "name": "stdout",
     "output_type": "stream",
     "text": [
      "[14.11612634 19.44594522 48.43154825 28.27249532 29.79586879 23.35636124]\n"
     ]
    }
   ],
   "source": [
    "ridge = linear_model.Ridge(fit_intercept=False)\n",
    "ridge.fit(X_train, y_train)\n",
    "print(ridge.coef_)"
   ]
  },
  {
   "cell_type": "code",
   "execution_count": 21,
   "metadata": {},
   "outputs": [
    {
     "name": "stdout",
     "output_type": "stream",
     "text": [
      "[ 7.79925939 21.95419503 41.83805669 28.88315176 30.96177499 50.26966699]\n"
     ]
    }
   ],
   "source": [
    "ridge.fit(X_test, y_test)\n",
    "print(ridge.coef_)"
   ]
  },
  {
   "cell_type": "code",
   "execution_count": 22,
   "metadata": {},
   "outputs": [],
   "source": [
    "y_pred = ridge.predict(X_test)\n",
    "ridge_rmse = mean_squared_error(y_test, y_pred)**.5\n",
    "ridge_score = ridge.score(X_test, y_test)"
   ]
  },
  {
   "cell_type": "markdown",
   "metadata": {},
   "source": [
    "### Lasso"
   ]
  },
  {
   "cell_type": "code",
   "execution_count": 23,
   "metadata": {},
   "outputs": [
    {
     "name": "stdout",
     "output_type": "stream",
     "text": [
      "[10.90336974 17.93649184 50.60492083 24.74935482 28.53996462 17.9364949 ]\n"
     ]
    }
   ],
   "source": [
    "lasso = linear_model.Lasso(fit_intercept=False)\n",
    "lasso.fit(X_train, y_train)\n",
    "print(lasso.coef_)"
   ]
  },
  {
   "cell_type": "code",
   "execution_count": 24,
   "metadata": {},
   "outputs": [
    {
     "name": "stdout",
     "output_type": "stream",
     "text": [
      "[ 4.02599167 19.73601984 42.71067123 27.25329979 30.94670743 47.69241561]\n"
     ]
    }
   ],
   "source": [
    "lasso.fit(X_test, y_test)\n",
    "print(lasso.coef_)"
   ]
  },
  {
   "cell_type": "code",
   "execution_count": 25,
   "metadata": {},
   "outputs": [],
   "source": [
    "y_pred = lasso.predict(X_test)\n",
    "lasso_rmse = mean_squared_error(y_test, y_pred)**.5\n",
    "lasso_score = lasso.score(X_test, y_test)"
   ]
  },
  {
   "cell_type": "markdown",
   "metadata": {},
   "source": [
    "### ElasticNet"
   ]
  },
  {
   "cell_type": "code",
   "execution_count": 26,
   "metadata": {},
   "outputs": [
    {
     "name": "stdout",
     "output_type": "stream",
     "text": [
      "[ 8.64264993 11.5655136  31.53260083 11.10580846 23.15558976  9.70440562]\n"
     ]
    }
   ],
   "source": [
    "elastic = linear_model.ElasticNet(fit_intercept=False)\n",
    "elastic.fit(X_train, y_train)\n",
    "print(elastic.coef_)"
   ]
  },
  {
   "cell_type": "code",
   "execution_count": 27,
   "metadata": {},
   "outputs": [
    {
     "name": "stdout",
     "output_type": "stream",
     "text": [
      "[ 8.25339415 13.01971595 31.3360914  12.98005657 20.79859316 14.26030105]\n"
     ]
    }
   ],
   "source": [
    "elastic.fit(X_test, y_test)\n",
    "print(elastic.coef_)"
   ]
  },
  {
   "cell_type": "code",
   "execution_count": 28,
   "metadata": {},
   "outputs": [],
   "source": [
    "y_pred = elastic.predict(X_test)\n",
    "elastic_rmse = mean_squared_error(y_test, y_pred)**.5\n",
    "elastic_score = elastic.score(X_test, y_test)"
   ]
  },
  {
   "cell_type": "markdown",
   "metadata": {},
   "source": [
    "# Comparisons"
   ]
  },
  {
   "cell_type": "code",
   "execution_count": 29,
   "metadata": {},
   "outputs": [
    {
     "data": {
      "text/html": [
       "<div>\n",
       "<style scoped>\n",
       "    .dataframe tbody tr th:only-of-type {\n",
       "        vertical-align: middle;\n",
       "    }\n",
       "\n",
       "    .dataframe tbody tr th {\n",
       "        vertical-align: top;\n",
       "    }\n",
       "\n",
       "    .dataframe thead th {\n",
       "        text-align: right;\n",
       "    }\n",
       "</style>\n",
       "<table border=\"1\" class=\"dataframe\">\n",
       "  <thead>\n",
       "    <tr style=\"text-align: right;\">\n",
       "      <th></th>\n",
       "      <th>beer</th>\n",
       "      <th>draft</th>\n",
       "      <th>mixed drink</th>\n",
       "      <th>1</th>\n",
       "      <th>2</th>\n",
       "      <th>4</th>\n",
       "    </tr>\n",
       "  </thead>\n",
       "  <tbody>\n",
       "    <tr>\n",
       "      <th>Linear</th>\n",
       "      <td>5.942241</td>\n",
       "      <td>20.306104</td>\n",
       "      <td>39.904976</td>\n",
       "      <td>32.036893</td>\n",
       "      <td>33.513304</td>\n",
       "      <td>55.204769</td>\n",
       "    </tr>\n",
       "    <tr>\n",
       "      <th>Ridge</th>\n",
       "      <td>7.799259</td>\n",
       "      <td>21.954195</td>\n",
       "      <td>41.838057</td>\n",
       "      <td>28.883152</td>\n",
       "      <td>30.961775</td>\n",
       "      <td>50.269667</td>\n",
       "    </tr>\n",
       "    <tr>\n",
       "      <th>Lasso</th>\n",
       "      <td>4.025992</td>\n",
       "      <td>19.736020</td>\n",
       "      <td>42.710671</td>\n",
       "      <td>27.253300</td>\n",
       "      <td>30.946707</td>\n",
       "      <td>47.692416</td>\n",
       "    </tr>\n",
       "    <tr>\n",
       "      <th>Elastic Net</th>\n",
       "      <td>8.253394</td>\n",
       "      <td>13.019716</td>\n",
       "      <td>31.336091</td>\n",
       "      <td>12.980057</td>\n",
       "      <td>20.798593</td>\n",
       "      <td>14.260301</td>\n",
       "    </tr>\n",
       "  </tbody>\n",
       "</table>\n",
       "</div>"
      ],
      "text/plain": [
       "                 beer      draft  mixed drink          1          2          4\n",
       "Linear       5.942241  20.306104    39.904976  32.036893  33.513304  55.204769\n",
       "Ridge        7.799259  21.954195    41.838057  28.883152  30.961775  50.269667\n",
       "Lasso        4.025992  19.736020    42.710671  27.253300  30.946707  47.692416\n",
       "Elastic Net  8.253394  13.019716    31.336091  12.980057  20.798593  14.260301"
      ]
     },
     "execution_count": 29,
     "metadata": {},
     "output_type": "execute_result"
    }
   ],
   "source": [
    "coefficientsdf = pd.DataFrame(data=[linear.coef_, ridge.coef_, lasso.coef_, elastic.coef_], columns=columns, \n",
    "                            index=index)\n",
    "coefficientsdf"
   ]
  },
  {
   "cell_type": "code",
   "execution_count": 30,
   "metadata": {},
   "outputs": [
    {
     "data": {
      "text/html": [
       "<div>\n",
       "<style scoped>\n",
       "    .dataframe tbody tr th:only-of-type {\n",
       "        vertical-align: middle;\n",
       "    }\n",
       "\n",
       "    .dataframe tbody tr th {\n",
       "        vertical-align: top;\n",
       "    }\n",
       "\n",
       "    .dataframe thead th {\n",
       "        text-align: right;\n",
       "    }\n",
       "</style>\n",
       "<table border=\"1\" class=\"dataframe\">\n",
       "  <thead>\n",
       "    <tr style=\"text-align: right;\">\n",
       "      <th></th>\n",
       "      <th>Linear</th>\n",
       "      <th>Ridge</th>\n",
       "      <th>Lasso</th>\n",
       "      <th>Elastic Net</th>\n",
       "    </tr>\n",
       "  </thead>\n",
       "  <tbody>\n",
       "    <tr>\n",
       "      <th>RMSE</th>\n",
       "      <td>33.428538</td>\n",
       "      <td>33.472707</td>\n",
       "      <td>33.645440</td>\n",
       "      <td>43.365813</td>\n",
       "    </tr>\n",
       "    <tr>\n",
       "      <th>Score</th>\n",
       "      <td>0.231927</td>\n",
       "      <td>0.229896</td>\n",
       "      <td>0.221927</td>\n",
       "      <td>-0.292596</td>\n",
       "    </tr>\n",
       "  </tbody>\n",
       "</table>\n",
       "</div>"
      ],
      "text/plain": [
       "          Linear      Ridge      Lasso  Elastic Net\n",
       "RMSE   33.428538  33.472707  33.645440    43.365813\n",
       "Score   0.231927   0.229896   0.221927    -0.292596"
      ]
     },
     "execution_count": 30,
     "metadata": {},
     "output_type": "execute_result"
    }
   ],
   "source": [
    "rmses = [linear_rmse, ridge_rmse, lasso_rmse, elastic_rmse]\n",
    "scores = [linear_score, ridge_score, lasso_score, elastic_score]\n",
    "df = pd.DataFrame(data=[rmses, scores], columns=index, index=['RMSE', 'Score'])\n",
    "df"
   ]
  },
  {
   "cell_type": "markdown",
   "metadata": {},
   "source": [
    "# Figuring out the best features"
   ]
  },
  {
   "cell_type": "code",
   "execution_count": 31,
   "metadata": {},
   "outputs": [
    {
     "name": "stdout",
     "output_type": "stream",
     "text": [
      "             Coefficients  Standard Errors  t values  Probabilites\n",
      "beer               5.9422            9.596     0.619         0.537\n",
      "draft             20.3061           10.337     1.964         0.052\n",
      "mixed drink       39.9050            8.651     4.613         0.000\n",
      "1                 32.0369           10.909     2.937         0.004\n",
      "2                 33.5133            9.556     3.507         0.001\n",
      "4                 55.2048           11.169     4.943         0.000\n"
     ]
    }
   ],
   "source": [
    "lm = linear_model.LinearRegression(fit_intercept=False)\n",
    "lm.fit(X_test,y_test)\n",
    "params = lm.coef_\n",
    "predictions = lm.predict(X_test)\n",
    "\n",
    "newX = pd.DataFrame(X_test)\n",
    "MSE = (sum((y_test-predictions)**2))/(len(newX)-len(newX.columns))\n",
    "\n",
    "var_b = MSE*(np.linalg.inv(np.dot(newX.T,newX)).diagonal())\n",
    "sd_b = np.sqrt(var_b)\n",
    "ts_b = params/ sd_b\n",
    "\n",
    "p_values =[2*(1-stats.t.cdf(np.abs(i),(len(newX)-1))) for i in ts_b]\n",
    "\n",
    "sd_b = np.round(sd_b,3)\n",
    "ts_b = np.round(ts_b,3)\n",
    "p_values = np.round(p_values,3)\n",
    "params = np.round(params,4)\n",
    "\n",
    "myDF3 = pd.DataFrame()\n",
    "myDF3[\"Coefficients\"],myDF3[\"Standard Errors\"],myDF3[\"t values\"],myDF3[\"Probabilites\"] = [params,sd_b,ts_b,p_values]\n",
    "myDF3.set_index(X_test.columns, inplace=True)\n",
    "print(myDF3)"
   ]
  }
 ],
 "metadata": {
  "kernelspec": {
   "display_name": "Python 3",
   "language": "python",
   "name": "python3"
  },
  "language_info": {
   "codemirror_mode": {
    "name": "ipython",
    "version": 3
   },
   "file_extension": ".py",
   "mimetype": "text/x-python",
   "name": "python",
   "nbconvert_exporter": "python",
   "pygments_lexer": "ipython3",
   "version": "3.6.6"
  }
 },
 "nbformat": 4,
 "nbformat_minor": 2
}
